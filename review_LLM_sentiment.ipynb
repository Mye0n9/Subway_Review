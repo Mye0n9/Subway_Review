{
 "cells": [
  {
   "cell_type": "code",
   "execution_count": 11,
   "metadata": {},
   "outputs": [],
   "source": [
    "import numpy as np\n",
    "import pandas as pd"
   ]
  },
  {
   "cell_type": "code",
   "execution_count": 12,
   "metadata": {},
   "outputs": [
    {
     "data": {
      "text/plain": [
       "0      It is the starting point on the side of the To...\n",
       "1      The station facility seems to be old, but not ...\n",
       "2      This is a general train station. Keio's Asakus...\n",
       "3      The station is crowded with office workers dur...\n",
       "4      It is easy to find the way because it is well ...\n",
       "                             ...                        \n",
       "364    I went to Tokyo Metro Toy Zay and Minami Shoto...\n",
       "365    There are all good things to live with reagent...\n",
       "366    Ceramic Line Station.It is positive to say tha...\n",
       "367    Tokyo Metro all over the world!Stamp Rally is ...\n",
       "368    Despite being a pretty large transit station, ...\n",
       "Name: review, Length: 369, dtype: object"
      ]
     },
     "execution_count": 12,
     "metadata": {},
     "output_type": "execute_result"
    }
   ],
   "source": [
    "df = pd.read_csv('data/en_review/combined_output_only_review.csv')\n",
    "df = df['review']\n",
    "df"
   ]
  },
  {
   "cell_type": "code",
   "execution_count": 13,
   "metadata": {},
   "outputs": [
    {
     "name": "stdout",
     "output_type": "stream",
     "text": [
      "9226\n"
     ]
    }
   ],
   "source": [
    "reviews = []\n",
    "for i in df:\n",
    "  i = i.replace('\\\\n','\\n').replace('\\ n','\\ N')\n",
    "  j = i.split('\\ N')\n",
    "  for review in j:\n",
    "    if review != ' ':\n",
    "      reviews.append(review)\n",
    "print(len(reviews))"
   ]
  },
  {
   "cell_type": "code",
   "execution_count": 83,
   "metadata": {},
   "outputs": [],
   "source": [
    "from skllm.config import SKLLMConfig\n",
    "\n",
    "SKLLMConfig.set_openai_key('---') # API key in case you use it\n",
    "SKLLMConfig.set_openai_org('---') # API organization in case you use it"
   ]
  },
  {
   "cell_type": "code",
   "execution_count": 85,
   "metadata": {},
   "outputs": [],
   "source": [
    "# change when you use it\n",
    "# created to split up the workload\n",
    "start = 0\n",
    "end = 9226\n",
    "steps = 10"
   ]
  },
  {
   "cell_type": "code",
   "execution_count": 88,
   "metadata": {},
   "outputs": [],
   "source": [
    "from skllm.models.gpt.classification.zero_shot import ZeroShotGPTClassifier\n",
    "\n",
    "\n",
    "def sentiment_classifier_result(start,end,steps):\n",
    "\n",
    "    result = pd.DataFrame(columns=['review', 'label'])\n",
    "    \n",
    "    clf = ZeroShotGPTClassifier()\n",
    "\n",
    "    clf.fit(None,['Positive','Neutral','Negative'])\n",
    "\n",
    "    for i in range(start, end, steps):\n",
    "        tmp = reviews[i:i+steps]\n",
    "        print(tmp)\n",
    "        label = clf.predict(tmp)\n",
    "        for j in range(len(label)):\n",
    "            new_data = {'review': tmp[j], 'label': label[j]}\n",
    "            result.loc[len(result)] = new_data\n",
    "            result = result.reset_index(drop=True)\n",
    "            \n",
    "    return result\n",
    "        "
   ]
  },
  {
   "cell_type": "code",
   "execution_count": null,
   "metadata": {},
   "outputs": [],
   "source": [
    "sentiment_result = sentiment_classifier_result(start,end,steps)\n",
    "sentiment_result"
   ]
  },
  {
   "cell_type": "code",
   "execution_count": null,
   "metadata": {},
   "outputs": [],
   "source": [
    "positive_reviews = sentiment_result[sentiment_result['label']=='Positive'].drop(columns=['label'])\n",
    "positive_reviews.to_csv(\"data/reviews_llm/postiive_reviews_llm.csv\")\n",
    "negative_reviews = sentiment_result[sentiment_result['label']=='Negative'].drop(columns=['label'])\n",
    "negative_reviews.to_csv(\"data/reviews_llm/negative_reviews_llm.csv\")"
   ]
  }
 ],
 "metadata": {
  "kernelspec": {
   "display_name": "URP",
   "language": "python",
   "name": "python3"
  },
  "language_info": {
   "codemirror_mode": {
    "name": "ipython",
    "version": 3
   },
   "file_extension": ".py",
   "mimetype": "text/x-python",
   "name": "python",
   "nbconvert_exporter": "python",
   "pygments_lexer": "ipython3",
   "version": "3.9.16"
  }
 },
 "nbformat": 4,
 "nbformat_minor": 2
}
