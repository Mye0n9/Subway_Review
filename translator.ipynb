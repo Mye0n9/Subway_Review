{
  "cells": [
    {
      "cell_type": "code",
      "execution_count": null,
      "metadata": {
        "colab": {
          "base_uri": "https://localhost:8080/"
        },
        "id": "cKSHI_Sgoswg",
        "outputId": "ab5796fe-35c8-4f08-9723-33dc8a07ffe7"
      },
      "outputs": [],
      "source": [
        "!pip install googletrans==4.0.0-rc1"
      ]
    },
    {
      "cell_type": "code",
      "execution_count": null,
      "metadata": {
        "id": "X07tLT5opD8u"
      },
      "outputs": [],
      "source": [
        "import pandas as pd"
      ]
    },
    {
      "cell_type": "code",
      "execution_count": null,
      "metadata": {
        "id": "LRDwbZPbo5ab"
      },
      "outputs": [],
      "source": [
        "# change the review file as you work on\n",
        "in_data = 'asakusaline_review'\n",
        "data = pd.read_csv('data/kr_review/'+in_data+'.csv')"
      ]
    },
    {
      "cell_type": "code",
      "execution_count": null,
      "metadata": {
        "id": "EOLPHUErpHZJ"
      },
      "outputs": [],
      "source": [
        "review_data = data"
      ]
    },
    {
      "cell_type": "code",
      "execution_count": null,
      "metadata": {
        "colab": {
          "base_uri": "https://localhost:8080/"
        },
        "id": "JbIe8KNXpKF_",
        "outputId": "5fad61d7-7f9c-4eb5-bf15-3df166924f69"
      },
      "outputs": [],
      "source": [
        "import googletrans\n",
        "translator = googletrans.Translator() #Google Translator (less than 5000 words work, ones with error will be translated in hands)"
      ]
    },
    {
      "cell_type": "code",
      "execution_count": null,
      "metadata": {
        "colab": {
          "base_uri": "https://localhost:8080/",
          "height": 271
        },
        "id": "ExatLUT6piO4",
        "outputId": "96c4c0f2-6077-4db2-83fd-293db5055344"
      },
      "outputs": [],
      "source": [
        "for i in range(len(review_data)):\n",
        "  inStr = review_data['review'][i]\n",
        "  try:\n",
        "    outStr = ''\n",
        "    while len(inStr) > 5000:\n",
        "      inStr1 = inStr[:5000]\n",
        "      inStr = inStr[5000:]\n",
        "      outStr += (translator.translate(inStr1, dest = 'en', src = 'auto')).text\n",
        "    outStr += (translator.translate(inStr, dest = 'en', src = 'auto')).text\n",
        "  except:\n",
        "      outStr = 'Error'\n",
        "  review_data['review'][i] = outStr"
      ]
    },
    {
      "cell_type": "code",
      "execution_count": null,
      "metadata": {
        "id": "BQ-wa6X1zzl1"
      },
      "outputs": [],
      "source": [
        "review_data.to_csv('data/en_review/'+in_data+'_en.csv')"
      ]
    },
    {
      "cell_type": "code",
      "execution_count": null,
      "metadata": {
        "id": "mgJ-NjDvhc3I"
      },
      "outputs": [],
      "source": []
    }
  ],
  "metadata": {
    "colab": {
      "provenance": []
    },
    "kernelspec": {
      "display_name": "Python 3",
      "name": "python3"
    },
    "language_info": {
      "name": "python"
    }
  },
  "nbformat": 4,
  "nbformat_minor": 0
}
